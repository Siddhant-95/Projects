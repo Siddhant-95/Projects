{
 "cells": [
  {
   "cell_type": "code",
   "execution_count": 71,
   "id": "6adbefb2",
   "metadata": {},
   "outputs": [],
   "source": [
    "import pandas as pd\n",
    "import numpy as np\n",
    "import re\n",
    "import nltk\n",
    "from pickle import dump\n",
    "from pickle import load\n",
    "import streamlit as st\n",
    "\n",
    "from nltk.corpus import stopwords\n",
    "my_stop_words=stopwords.words('english')\n",
    "sw_list = ['ye','yeah','haha','Yes','I']\n",
    "my_stop_words.extend(sw_list)"
   ]
  },
  {
   "cell_type": "code",
   "execution_count": 72,
   "id": "b44eca3b",
   "metadata": {
    "scrolled": true
   },
   "outputs": [
    {
     "name": "stdout",
     "output_type": "stream",
     "text": [
      "@ramesh #earthquake extremely tense situation\n"
     ]
    }
   ],
   "source": [
    "tweet = input()"
   ]
  },
  {
   "cell_type": "code",
   "execution_count": 73,
   "id": "a25cd3b5",
   "metadata": {},
   "outputs": [],
   "source": [
    "def tweet_to_data(x):\n",
    "    return pd.DataFrame({'text' : x}, index = [0])"
   ]
  },
  {
   "cell_type": "code",
   "execution_count": 74,
   "id": "12c42bf9",
   "metadata": {},
   "outputs": [],
   "source": [
    "tweets = tweet_to_data(tweet)"
   ]
  },
  {
   "cell_type": "code",
   "execution_count": 75,
   "id": "1677fe58",
   "metadata": {},
   "outputs": [],
   "source": [
    "tweets_ml = tweets.copy()"
   ]
  },
  {
   "cell_type": "code",
   "execution_count": 82,
   "id": "ccdff708",
   "metadata": {},
   "outputs": [
    {
     "data": {
      "text/plain": [
       "pandas.core.frame.DataFrame"
      ]
     },
     "execution_count": 82,
     "metadata": {},
     "output_type": "execute_result"
    }
   ],
   "source": [
    "type(tweets_ml)"
   ]
  },
  {
   "cell_type": "code",
   "execution_count": 77,
   "id": "fe6e6e25",
   "metadata": {},
   "outputs": [],
   "source": [
    "tweets_ml.text = tweets_ml.text.apply(lambda x: re.sub(r'http\\S+', '',x)) #remove Urls\n",
    "tweets_ml.text = tweets_ml.text.apply(lambda x: re.sub('@[^\\s]+','',x)) #remove handles\n",
    "tweets_ml.text = tweets_ml.text.apply(lambda x: re.sub('[^a-zA-Z0-9]',\" \",x)) #remove everything except letters and numbers\n",
    "tweets_ml.text = tweets_ml.text.apply(lambda x : x.split())\n",
    "tweets_ml.text = tweets_ml.text.apply(lambda x: [word for word in x if word not in set(stopwords.words('english'))])\n"
   ]
  },
  {
   "cell_type": "code",
   "execution_count": 78,
   "id": "0a3ccbf4",
   "metadata": {},
   "outputs": [
    {
     "data": {
      "text/plain": [
       "0    [earthquake, extremely, tense, situation]\n",
       "Name: text, dtype: object"
      ]
     },
     "execution_count": 78,
     "metadata": {},
     "output_type": "execute_result"
    }
   ],
   "source": [
    "tweets_ml.text"
   ]
  },
  {
   "cell_type": "code",
   "execution_count": 79,
   "id": "56e894b8",
   "metadata": {},
   "outputs": [
    {
     "name": "stderr",
     "output_type": "stream",
     "text": [
      "2022-04-03 21:45:16.426 \n",
      "  \u001b[33m\u001b[1mWarning:\u001b[0m to view this Streamlit app on a browser, run it with the following\n",
      "  command:\n",
      "\n",
      "    streamlit run C:\\Users\\shand\\anaconda3\\lib\\site-packages\\ipykernel_launcher.py [ARGUMENTS]\n",
      "C:\\Users\\shand\\anaconda3\\lib\\site-packages\\sklearn\\base.py:450: UserWarning: X does not have valid feature names, but RandomForestClassifier was fitted with feature names\n",
      "  warnings.warn(\n"
     ]
    }
   ],
   "source": [
    "from nltk.stem.porter import PorterStemmer\n",
    "ps = PorterStemmer()\n",
    "tweets_ml.text = tweets_ml.text.apply(lambda x : [ps.stem(word) for word in x]) #stemming\n",
    "tweets_ml.text = tweets_ml.text.apply(lambda x : \" \".join(x))\n",
    "\n",
    "from sklearn.feature_extraction.text import TfidfVectorizer\n",
    "from sklearn.feature_extraction.text import TfidfTransformer\n",
    "\n",
    "transformer = TfidfTransformer()\n",
    "loaded_vec = TfidfVectorizer(vocabulary = load(open('features.pkl', 'rb')))\n",
    "X = transformer.fit_transform(loaded_vec.fit_transform(tweets_ml.text.values))\n",
    "\n",
    "st.subheader('DataFrame')\n",
    "st.write(tweet)\n",
    "\n",
    "loaded_model = load(open('Random_Forest_Final.sav','rb'))\n",
    "prediction = loaded_model.predict(X)\n",
    "prediction_proba = loaded_model.predict_proba(X)\n",
    "st.subheader('Predicted Probability')\n",
    "st.write(prediction_proba)\n"
   ]
  },
  {
   "cell_type": "code",
   "execution_count": null,
   "id": "ad112291",
   "metadata": {},
   "outputs": [],
   "source": []
  }
 ],
 "metadata": {
  "kernelspec": {
   "display_name": "Python 3",
   "language": "python",
   "name": "python3"
  },
  "language_info": {
   "codemirror_mode": {
    "name": "ipython",
    "version": 3
   },
   "file_extension": ".py",
   "mimetype": "text/x-python",
   "name": "python",
   "nbconvert_exporter": "python",
   "pygments_lexer": "ipython3",
   "version": "3.8.8"
  },
  "toc": {
   "base_numbering": 1,
   "nav_menu": {},
   "number_sections": false,
   "sideBar": true,
   "skip_h1_title": false,
   "title_cell": "Table of Contents",
   "title_sidebar": "Contents",
   "toc_cell": false,
   "toc_position": {},
   "toc_section_display": true,
   "toc_window_display": false
  },
  "varInspector": {
   "cols": {
    "lenName": 16,
    "lenType": 16,
    "lenVar": 40
   },
   "kernels_config": {
    "python": {
     "delete_cmd_postfix": "",
     "delete_cmd_prefix": "del ",
     "library": "var_list.py",
     "varRefreshCmd": "print(var_dic_list())"
    },
    "r": {
     "delete_cmd_postfix": ") ",
     "delete_cmd_prefix": "rm(",
     "library": "var_list.r",
     "varRefreshCmd": "cat(var_dic_list()) "
    }
   },
   "types_to_exclude": [
    "module",
    "function",
    "builtin_function_or_method",
    "instance",
    "_Feature"
   ],
   "window_display": false
  }
 },
 "nbformat": 4,
 "nbformat_minor": 5
}
